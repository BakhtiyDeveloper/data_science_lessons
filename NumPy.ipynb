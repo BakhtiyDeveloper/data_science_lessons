{
  "nbformat": 4,
  "nbformat_minor": 0,
  "metadata": {
    "colab": {
      "provenance": [],
      "private_outputs": true,
      "authorship_tag": "ABX9TyNROu/cnD/oGFiuZMGRM2vM",
      "include_colab_link": true
    },
    "kernelspec": {
      "name": "python3",
      "display_name": "Python 3"
    },
    "language_info": {
      "name": "python"
    },
    "gpuClass": "standard",
    "accelerator": "GPU"
  },
  "cells": [
    {
      "cell_type": "markdown",
      "metadata": {
        "id": "view-in-github",
        "colab_type": "text"
      },
      "source": [
        "<a href=\"https://colab.research.google.com/github/BakhtiyDeveloper/data_science_lessons/blob/main/NumPy.ipynb\" target=\"_parent\"><img src=\"https://colab.research.google.com/assets/colab-badge.svg\" alt=\"Open In Colab\"/></a>"
      ]
    },
    {
      "cell_type": "code",
      "source": [
        "import numpy as np"
      ],
      "metadata": {
        "id": "rmjoUpo7HgCt"
      },
      "execution_count": null,
      "outputs": []
    },
    {
      "cell_type": "code",
      "source": [
        "arr1 = np.arange(10, 110, 10)\n",
        "arr1"
      ],
      "metadata": {
        "id": "G2QdZ1JgHn-M"
      },
      "execution_count": null,
      "outputs": []
    },
    {
      "cell_type": "code",
      "source": [
        "arr1[8]"
      ],
      "metadata": {
        "id": "IxmJDFYIH2Nn"
      },
      "execution_count": null,
      "outputs": []
    },
    {
      "cell_type": "code",
      "source": [
        "arr1[3]"
      ],
      "metadata": {
        "id": "GPfWRfmGIDSw"
      },
      "execution_count": null,
      "outputs": []
    },
    {
      "cell_type": "code",
      "source": [
        "arr1"
      ],
      "metadata": {
        "id": "hfzLVEwxIO1t"
      },
      "execution_count": null,
      "outputs": []
    },
    {
      "cell_type": "code",
      "source": [
        "arr1[3:5]"
      ],
      "metadata": {
        "id": "T5_1jt9sIRvd"
      },
      "execution_count": null,
      "outputs": []
    },
    {
      "cell_type": "code",
      "source": [
        "arr1[8:]\n"
      ],
      "metadata": {
        "id": "u9vhokBOIY2I"
      },
      "execution_count": null,
      "outputs": []
    },
    {
      "cell_type": "code",
      "source": [
        "arr1[-3]"
      ],
      "metadata": {
        "id": "n3PYfyJLIdEe"
      },
      "execution_count": null,
      "outputs": []
    },
    {
      "cell_type": "code",
      "source": [
        "sled_arr = arr1[7:].copy()\n",
        "sled_arr[:] = 0"
      ],
      "metadata": {
        "id": "bqwZ0n_qIjXA"
      },
      "execution_count": null,
      "outputs": []
    },
    {
      "cell_type": "code",
      "source": [
        "arr1"
      ],
      "metadata": {
        "id": "h6gH-eNFIwIC"
      },
      "execution_count": null,
      "outputs": []
    },
    {
      "cell_type": "code",
      "source": [
        "arr1\n",
        "arr2 = np.arange(10, 80, 10)\n",
        "arr2"
      ],
      "metadata": {
        "id": "9YofLHY1I9PO"
      },
      "execution_count": null,
      "outputs": []
    },
    {
      "cell_type": "code",
      "source": [
        "sled_arr2 = arr2[4:].copy()"
      ],
      "metadata": {
        "id": "6TK5cFeeJKM7"
      },
      "execution_count": null,
      "outputs": []
    },
    {
      "cell_type": "code",
      "source": [
        "sled_arr2[:] = 0"
      ],
      "metadata": {
        "id": "gvMbDetCJnAy"
      },
      "execution_count": null,
      "outputs": []
    },
    {
      "cell_type": "code",
      "source": [
        "sled_arr2"
      ],
      "metadata": {
        "id": "Z2qBi_mlKEJt"
      },
      "execution_count": null,
      "outputs": []
    },
    {
      "cell_type": "code",
      "source": [
        "arr2"
      ],
      "metadata": {
        "id": "YtvEfgLsKGJ1"
      },
      "execution_count": null,
      "outputs": []
    },
    {
      "cell_type": "code",
      "source": [
        "sled_arr3 = arr2[2:7].copy()\n",
        "sled_arr3"
      ],
      "metadata": {
        "id": "3C1x_V_QKLS4"
      },
      "execution_count": null,
      "outputs": []
    },
    {
      "cell_type": "code",
      "source": [
        "sled_arr3[:] = 0"
      ],
      "metadata": {
        "id": "uD2iFpfSKaWz"
      },
      "execution_count": null,
      "outputs": []
    },
    {
      "cell_type": "code",
      "source": [
        "sled_arr3"
      ],
      "metadata": {
        "id": "d8HM2wILKf5Q"
      },
      "execution_count": null,
      "outputs": []
    },
    {
      "cell_type": "code",
      "source": [
        "arr2\n"
      ],
      "metadata": {
        "id": "CIbttjkaKhvC"
      },
      "execution_count": null,
      "outputs": []
    },
    {
      "cell_type": "code",
      "source": [
        "arr2d = np.array([[1, 2, 3], [4, 5, 6], [7, 8, 9]])\n",
        "arr2d"
      ],
      "metadata": {
        "id": "vPkSI5sXKlaw"
      },
      "execution_count": null,
      "outputs": []
    },
    {
      "cell_type": "code",
      "source": [
        "arr2d.ndim"
      ],
      "metadata": {
        "id": "r7ny986DLMUA"
      },
      "execution_count": null,
      "outputs": []
    },
    {
      "cell_type": "code",
      "source": [
        "arr2d[1,2]"
      ],
      "metadata": {
        "id": "C0BngWmuL3b0"
      },
      "execution_count": null,
      "outputs": []
    },
    {
      "cell_type": "code",
      "source": [
        "arr2d[2,1]"
      ],
      "metadata": {
        "id": "sNDR-x6LMgD7"
      },
      "execution_count": null,
      "outputs": []
    },
    {
      "cell_type": "code",
      "source": [
        "arr2d"
      ],
      "metadata": {
        "id": "VhVUr-RkM5uP"
      },
      "execution_count": null,
      "outputs": []
    },
    {
      "cell_type": "markdown",
      "source": [
        "6 + 2"
      ],
      "metadata": {
        "id": "UEuiKAXBNJho"
      }
    },
    {
      "cell_type": "code",
      "source": [
        "arr2d[1,2] + arr2d[0,1] "
      ],
      "metadata": {
        "id": "rvkAe93-MldF"
      },
      "execution_count": null,
      "outputs": []
    },
    {
      "cell_type": "code",
      "source": [
        "arr2d"
      ],
      "metadata": {
        "id": "SmJNZf7EMzxU"
      },
      "execution_count": null,
      "outputs": []
    },
    {
      "cell_type": "markdown",
      "source": [
        "1 + 9"
      ],
      "metadata": {
        "id": "wIq75uCfNRDl"
      }
    },
    {
      "cell_type": "code",
      "source": [
        "arr2d[0,0] + arr2d[2, 2]"
      ],
      "metadata": {
        "id": "FR0XZv48NPBq"
      },
      "execution_count": null,
      "outputs": []
    },
    {
      "cell_type": "code",
      "source": [
        "arr2d"
      ],
      "metadata": {
        "id": "jv6GDfKeNdce"
      },
      "execution_count": null,
      "outputs": []
    },
    {
      "cell_type": "markdown",
      "source": [
        "8 - 4 "
      ],
      "metadata": {
        "id": "hnGLWdvjNvWK"
      }
    },
    {
      "cell_type": "code",
      "source": [
        "arr2d[2,1] - arr2d[1, 0]"
      ],
      "metadata": {
        "id": "qlTcDqU-Nn65"
      },
      "execution_count": null,
      "outputs": []
    },
    {
      "cell_type": "code",
      "source": [
        "arr3d = np.array([[[1, 2, 3],\n",
        "           [4, 5, 6],\n",
        "           [7, 8, 9]],\n",
        "          \n",
        "          [[10, 11 ,12],\n",
        "           [13, 14, 15],\n",
        "           [16, 17, 18]],\n",
        "          \n",
        "          [[19, 20, 21],\n",
        "           [22, 23, 24],\n",
        "           [25, 26, 27]]])\n",
        "arr3d"
      ],
      "metadata": {
        "id": "X0cAlLrdN67O"
      },
      "execution_count": null,
      "outputs": []
    },
    {
      "cell_type": "code",
      "source": [
        "arr3d"
      ],
      "metadata": {
        "id": "4Qyb8yOGq0ag"
      },
      "execution_count": null,
      "outputs": []
    },
    {
      "cell_type": "code",
      "source": [
        "arr3d.ndim"
      ],
      "metadata": {
        "id": "K_O1SmIvrg_O"
      },
      "execution_count": null,
      "outputs": []
    },
    {
      "cell_type": "code",
      "source": [
        "arr3d[0]"
      ],
      "metadata": {
        "id": "T95vGGWer6Z-"
      },
      "execution_count": null,
      "outputs": []
    },
    {
      "cell_type": "code",
      "source": [
        "arr3d[1]"
      ],
      "metadata": {
        "id": "6wefEFIftui3"
      },
      "execution_count": null,
      "outputs": []
    },
    {
      "cell_type": "code",
      "source": [
        "arr3d[2]"
      ],
      "metadata": {
        "id": "O0mHdn09ty1P"
      },
      "execution_count": null,
      "outputs": []
    },
    {
      "cell_type": "code",
      "source": [
        "arr3d[1, 1, 2]"
      ],
      "metadata": {
        "id": "bBP9taZrt3mW"
      },
      "execution_count": null,
      "outputs": []
    },
    {
      "cell_type": "code",
      "source": [
        "arr3d"
      ],
      "metadata": {
        "id": "bOQOzF5ct_Ee"
      },
      "execution_count": null,
      "outputs": []
    },
    {
      "cell_type": "code",
      "source": [
        "arr3d[2, 1, 1]"
      ],
      "metadata": {
        "id": "xAhhZXWFuIRe"
      },
      "execution_count": null,
      "outputs": []
    },
    {
      "cell_type": "markdown",
      "source": [
        "17 + 25\n"
      ],
      "metadata": {
        "id": "MMVnu_7FuWxg"
      }
    },
    {
      "cell_type": "code",
      "source": [
        "arr3d[1, 2, 1] + arr3d[2, 2, 0]"
      ],
      "metadata": {
        "id": "9KVC_Z9guT0-"
      },
      "execution_count": null,
      "outputs": []
    },
    {
      "cell_type": "markdown",
      "source": [
        "27-7\n"
      ],
      "metadata": {
        "id": "Rv85jiMFu8x3"
      }
    },
    {
      "cell_type": "code",
      "source": [
        "arr3d"
      ],
      "metadata": {
        "id": "pA8PC1bhuuCP"
      },
      "execution_count": null,
      "outputs": []
    },
    {
      "cell_type": "code",
      "source": [
        "arr3d[2, 2, 2] - arr3d[0, 2, 0]"
      ],
      "metadata": {
        "id": "6f6ytmCOuzk2"
      },
      "execution_count": null,
      "outputs": []
    },
    {
      "cell_type": "code",
      "source": [
        "name = np.array(['Vlad', 'Egor', 'Askar', 'Elyor', 'Baha', 'Hasan', 'Qaqon', 'Husan', 'Hasan', 'Elyor'])"
      ],
      "metadata": {
        "id": "Oa1eBCSgvZcu"
      },
      "execution_count": null,
      "outputs": []
    },
    {
      "cell_type": "code",
      "source": [
        "data = np.random.randn(10, 4)"
      ],
      "metadata": {
        "id": "Uwr1koCUphm7"
      },
      "execution_count": null,
      "outputs": []
    },
    {
      "cell_type": "code",
      "source": [
        "data"
      ],
      "metadata": {
        "id": "mmq_Nv_PpwhB"
      },
      "execution_count": null,
      "outputs": []
    },
    {
      "cell_type": "code",
      "source": [
        "name == 'Hasan'"
      ],
      "metadata": {
        "id": "EfRBJqs2pyRP"
      },
      "execution_count": null,
      "outputs": []
    },
    {
      "cell_type": "code",
      "source": [
        "data[name == 'Hasan']"
      ],
      "metadata": {
        "id": "wH3GiuroqE_W"
      },
      "execution_count": null,
      "outputs": []
    },
    {
      "cell_type": "code",
      "source": [
        "data[name == 'Qaqon']"
      ],
      "metadata": {
        "id": "mnf5X9y7qce-"
      },
      "execution_count": null,
      "outputs": []
    },
    {
      "cell_type": "code",
      "source": [
        "data[name == 'Askar']"
      ],
      "metadata": {
        "id": "NOKsLPbfqjqG"
      },
      "execution_count": null,
      "outputs": []
    },
    {
      "cell_type": "code",
      "source": [
        "data[name == 'Baha']"
      ],
      "metadata": {
        "id": "sesXzJMOqquX"
      },
      "execution_count": null,
      "outputs": []
    },
    {
      "cell_type": "code",
      "source": [
        "data[name == 'Elyor', 4:]"
      ],
      "metadata": {
        "id": "uLDCCj7eqx8G"
      },
      "execution_count": null,
      "outputs": []
    },
    {
      "cell_type": "code",
      "source": [
        "data[name == 'Baha', 1:4]"
      ],
      "metadata": {
        "id": "GwLPBKiRrAWo"
      },
      "execution_count": null,
      "outputs": []
    },
    {
      "cell_type": "code",
      "source": [
        "print(data[name == 'Baha'])"
      ],
      "metadata": {
        "id": "yQ33xGtnrJ-P"
      },
      "execution_count": null,
      "outputs": []
    },
    {
      "cell_type": "code",
      "source": [
        "print(data[name == 'Baha', 0])"
      ],
      "metadata": {
        "id": "krdeg3ozrdPn"
      },
      "execution_count": null,
      "outputs": []
    },
    {
      "cell_type": "code",
      "source": [
        "data[name == 'Askar']"
      ],
      "metadata": {
        "id": "rgVXTsQmrnP-"
      },
      "execution_count": null,
      "outputs": []
    },
    {
      "cell_type": "code",
      "source": [
        "data[name == 'Askar', 0]"
      ],
      "metadata": {
        "id": "yS04WsQNr-8t"
      },
      "execution_count": null,
      "outputs": []
    },
    {
      "cell_type": "code",
      "source": [
        "data[name == 'Hasan', [0] + [1]]"
      ],
      "metadata": {
        "id": "aF_3R7LlsT41"
      },
      "execution_count": null,
      "outputs": []
    },
    {
      "cell_type": "code",
      "source": [
        "data[name == 'Baha']"
      ],
      "metadata": {
        "id": "WjHi4eHHsgse"
      },
      "execution_count": null,
      "outputs": []
    },
    {
      "cell_type": "code",
      "source": [
        "data[name == 'Baha', 1]"
      ],
      "metadata": {
        "id": "_M8lyHh7sziO"
      },
      "execution_count": null,
      "outputs": []
    },
    {
      "cell_type": "code",
      "source": [
        "data[name == 'Baha', [4] + [3]]"
      ],
      "metadata": {
        "id": "GXrvXs-GtGR2"
      },
      "execution_count": null,
      "outputs": []
    },
    {
      "cell_type": "code",
      "source": [
        "data[name != 'Hasan']"
      ],
      "metadata": {
        "id": "B75TNMwttXs-"
      },
      "execution_count": null,
      "outputs": []
    },
    {
      "cell_type": "code",
      "source": [
        "data[name == 'Baha']"
      ],
      "metadata": {
        "id": "mzOeoYkntqkN"
      },
      "execution_count": null,
      "outputs": []
    },
    {
      "cell_type": "code",
      "source": [
        "data[name == 'Baha']"
      ],
      "metadata": {
        "id": "Opp96CoBt6zJ"
      },
      "execution_count": null,
      "outputs": []
    },
    {
      "cell_type": "code",
      "source": [
        "data[name == 'Baha'], data[name == 'Elyor']"
      ],
      "metadata": {
        "id": "XAsY7wNLuIoO"
      },
      "execution_count": null,
      "outputs": []
    },
    {
      "cell_type": "code",
      "source": [
        "kes = (name == 'Elyor') | (name == 'Qaaon')"
      ],
      "metadata": {
        "id": "a1cgNHxgumfN"
      },
      "execution_count": null,
      "outputs": []
    },
    {
      "cell_type": "code",
      "source": [
        "kes"
      ],
      "metadata": {
        "id": "_qV3ZMyRvGZ-"
      },
      "execution_count": null,
      "outputs": []
    },
    {
      "cell_type": "code",
      "source": [
        "data[kes]"
      ],
      "metadata": {
        "id": "8gSwrCGJvIJl"
      },
      "execution_count": null,
      "outputs": []
    },
    {
      "cell_type": "code",
      "source": [
        "kesil = (name == 'Baha') | (name == 'Elyor')"
      ],
      "metadata": {
        "id": "nSXpDTIgvNDe"
      },
      "execution_count": null,
      "outputs": []
    },
    {
      "cell_type": "code",
      "source": [
        "kesil"
      ],
      "metadata": {
        "id": "GcT_pQ4jvsOF"
      },
      "execution_count": null,
      "outputs": []
    },
    {
      "cell_type": "code",
      "source": [
        "data[kesil]"
      ],
      "metadata": {
        "id": "WA175Mpivvcd"
      },
      "execution_count": null,
      "outputs": []
    },
    {
      "cell_type": "code",
      "source": [
        "data"
      ],
      "metadata": {
        "id": "lkrHRBZUvzDd"
      },
      "execution_count": null,
      "outputs": []
    },
    {
      "cell_type": "code",
      "source": [
        "data[data<0] = 0\n",
        "data"
      ],
      "metadata": {
        "id": "vBcatSmhw2nu"
      },
      "execution_count": null,
      "outputs": []
    },
    {
      "cell_type": "code",
      "source": [],
      "metadata": {
        "id": "JCr1vPtaw_fO"
      },
      "execution_count": null,
      "outputs": []
    }
  ]
}