{
  "nbformat": 4,
  "nbformat_minor": 0,
  "metadata": {
    "colab": {
      "provenance": [],
      "authorship_tag": "ABX9TyNxB7B1rezRb5e5Hanwfl8D",
      "include_colab_link": true
    },
    "kernelspec": {
      "name": "python3",
      "display_name": "Python 3"
    },
    "language_info": {
      "name": "python"
    },
    "gpuClass": "standard",
    "accelerator": "GPU"
  },
  "cells": [
    {
      "cell_type": "markdown",
      "metadata": {
        "id": "view-in-github",
        "colab_type": "text"
      },
      "source": [
        "<a href=\"https://colab.research.google.com/github/BakhtiyDeveloper/data_science_lessons/blob/main/NumPy.ipynb\" target=\"_parent\"><img src=\"https://colab.research.google.com/assets/colab-badge.svg\" alt=\"Open In Colab\"/></a>"
      ]
    },
    {
      "cell_type": "code",
      "execution_count": 1,
      "metadata": {
        "id": "7Zpd-rHWhsb2"
      },
      "outputs": [],
      "source": [
        "import numpy as np \n",
        "import pandas as pd\n",
        "from pandas_datareader import data as wb\n",
        "import matplotlib.pyplot as plt"
      ]
    },
    {
      "cell_type": "code",
      "source": [
        "my_list = list(range(100000)) # normal list\n",
        "my_array = np.array(range(100000))  # array (vektor)"
      ],
      "metadata": {
        "id": "myCAhUxXi8Cb"
      },
      "execution_count": null,
      "outputs": []
    },
    {
      "cell_type": "code",
      "source": [
        "my_list, my_array"
      ],
      "metadata": {
        "id": "amaZaVYrjUfi"
      },
      "execution_count": null,
      "outputs": []
    },
    {
      "cell_type": "code",
      "source": [
        "%time for _ in range(10): [x*2 for x in my_list]"
      ],
      "metadata": {
        "id": "NtYL50R5jW-5"
      },
      "execution_count": null,
      "outputs": []
    },
    {
      "cell_type": "code",
      "source": [
        "%time for _ in range(10): my_array*2 "
      ],
      "metadata": {
        "id": "52usRj3pj9ux"
      },
      "execution_count": null,
      "outputs": []
    },
    {
      "cell_type": "code",
      "source": [
        "75.7/2.21"
      ],
      "metadata": {
        "id": "uu9c84aYkeJY"
      },
      "execution_count": null,
      "outputs": []
    },
    {
      "cell_type": "code",
      "source": [
        "2.21/75.7"
      ],
      "metadata": {
        "id": "RkxTSGIclT6T"
      },
      "execution_count": null,
      "outputs": []
    },
    {
      "cell_type": "markdown",
      "source": [
        "Массивы"
      ],
      "metadata": {
        "id": "bTSAyV3apKDN"
      }
    },
    {
      "cell_type": "code",
      "source": [
        "data1 = [3.5, 5, 7, 56, 65, 29, 1, 20, 76, 245, 3, 45, ] # list"
      ],
      "metadata": {
        "id": "Q0gAQUCwlcVS"
      },
      "execution_count": null,
      "outputs": []
    },
    {
      "cell_type": "code",
      "source": [
        "arr1 = np.array(data1) # array "
      ],
      "metadata": {
        "id": "kvE1vxUKn_ag"
      },
      "execution_count": null,
      "outputs": []
    },
    {
      "cell_type": "code",
      "source": [
        "arr1"
      ],
      "metadata": {
        "id": "4L9ryEcZoCUI"
      },
      "execution_count": null,
      "outputs": []
    },
    {
      "cell_type": "code",
      "source": [
        "data2 = (1, 34, 65, 98, 3.6, 4.7, 9) # tuple\n",
        "arr2 = np.array(data2)"
      ],
      "metadata": {
        "id": "eJCy84ApoPuX"
      },
      "execution_count": null,
      "outputs": []
    },
    {
      "cell_type": "code",
      "source": [
        "arr2"
      ],
      "metadata": {
        "id": "rZGMvZ1forjp"
      },
      "execution_count": null,
      "outputs": []
    },
    {
      "cell_type": "markdown",
      "source": [
        "Массивы N. как узнат мера массива N"
      ],
      "metadata": {
        "id": "dDZJd2GrpakE"
      }
    },
    {
      "cell_type": "code",
      "source": [
        "arr1.ndim # мера arr1 "
      ],
      "metadata": {
        "id": "NTM8lZR_qG0R"
      },
      "execution_count": null,
      "outputs": []
    },
    {
      "cell_type": "code",
      "source": [
        "arr2.ndim # мера arr2 "
      ],
      "metadata": {
        "id": "jcm9gu04pfcV"
      },
      "execution_count": null,
      "outputs": []
    },
    {
      "cell_type": "code",
      "source": [
        "data3 = [[1, 2, 3, 4] , [5, 6, 7, 8, 9]] # nested list\n",
        "   "
      ],
      "metadata": {
        "id": "HMG4jQ-ioJeB"
      },
      "execution_count": null,
      "outputs": []
    },
    {
      "cell_type": "code",
      "source": [
        "data3"
      ],
      "metadata": {
        "id": "fWwv8axSpUJ-"
      },
      "execution_count": null,
      "outputs": []
    },
    {
      "cell_type": "code",
      "source": [
        "arr3 = np.array(data3)\n",
        "arr3"
      ],
      "metadata": {
        "id": "k36zga3upW0V"
      },
      "execution_count": null,
      "outputs": []
    },
    {
      "cell_type": "code",
      "source": [
        "arr3.ndim"
      ],
      "metadata": {
        "id": "0b287L5jqREm"
      },
      "execution_count": null,
      "outputs": []
    },
    {
      "cell_type": "code",
      "source": [
        "data4 = [[12, 22, 34, 15],[22, 32, 26, 43, 55],[76, 56, 76, 88, 69]]\n",
        "data4"
      ],
      "metadata": {
        "id": "sPlS7whSqzaF",
        "colab": {
          "base_uri": "https://localhost:8080/"
        },
        "outputId": "b0ebc334-aba7-4a51-cae7-eefc23ed34ba"
      },
      "execution_count": 7,
      "outputs": [
        {
          "output_type": "execute_result",
          "data": {
            "text/plain": [
              "[[12, 22, 34, 15], [22, 32, 26, 43, 55], [76, 56, 76, 88, 69]]"
            ]
          },
          "metadata": {},
          "execution_count": 7
        }
      ]
    },
    {
      "cell_type": "code",
      "source": [],
      "metadata": {
        "id": "bIN4Rbu6tFy1"
      },
      "execution_count": null,
      "outputs": []
    },
    {
      "cell_type": "code",
      "source": [
        "arr4 = np.array(data4)\n",
        "arr4"
      ],
      "metadata": {
        "id": "B6jGbUH0taQ0",
        "colab": {
          "base_uri": "https://localhost:8080/"
        },
        "outputId": "ecd0c91c-0124-4483-be5a-52337d387b01"
      },
      "execution_count": 20,
      "outputs": [
        {
          "output_type": "stream",
          "name": "stderr",
          "text": [
            "/usr/local/lib/python3.7/dist-packages/ipykernel_launcher.py:1: VisibleDeprecationWarning: Creating an ndarray from ragged nested sequences (which is a list-or-tuple of lists-or-tuples-or ndarrays with different lengths or shapes) is deprecated. If you meant to do this, you must specify 'dtype=object' when creating the ndarray.\n",
            "  \"\"\"Entry point for launching an IPython kernel.\n"
          ]
        },
        {
          "output_type": "execute_result",
          "data": {
            "text/plain": [
              "array([list([12, 22, 34, 15]), list([22, 32, 26, 43, 55]),\n",
              "       list([76, 56, 76, 88, 69])], dtype=object)"
            ]
          },
          "metadata": {},
          "execution_count": 20
        }
      ]
    },
    {
      "cell_type": "code",
      "source": [
        "arr4.ndim"
      ],
      "metadata": {
        "id": "EHgcKPY5tmNc",
        "colab": {
          "base_uri": "https://localhost:8080/"
        },
        "outputId": "19b367bc-7ad3-4fbe-b6ad-267a48032132"
      },
      "execution_count": 21,
      "outputs": [
        {
          "output_type": "execute_result",
          "data": {
            "text/plain": [
              "1"
            ]
          },
          "metadata": {},
          "execution_count": 21
        }
      ]
    },
    {
      "cell_type": "code",
      "source": [
        "data5 = [3, 5, 7, 6]\n",
        "data5"
      ],
      "metadata": {
        "id": "7kHwoBsUuVeF",
        "colab": {
          "base_uri": "https://localhost:8080/"
        },
        "outputId": "8c727d30-b245-457b-c4f6-33a4b1a10aa8"
      },
      "execution_count": 22,
      "outputs": [
        {
          "output_type": "execute_result",
          "data": {
            "text/plain": [
              "[3, 5, 7, 6]"
            ]
          },
          "metadata": {},
          "execution_count": 22
        }
      ]
    },
    {
      "cell_type": "code",
      "source": [
        "arr5 = np.array(data5)\n",
        "arr5"
      ],
      "metadata": {
        "id": "CZ8TRS_ly2E9",
        "colab": {
          "base_uri": "https://localhost:8080/"
        },
        "outputId": "ca220f70-adb0-447e-8878-e874bda7ec2a"
      },
      "execution_count": 12,
      "outputs": [
        {
          "output_type": "execute_result",
          "data": {
            "text/plain": [
              "array([3, 5, 7, 6])"
            ]
          },
          "metadata": {},
          "execution_count": 12
        }
      ]
    },
    {
      "cell_type": "code",
      "source": [
        "arr4.shape"
      ],
      "metadata": {
        "colab": {
          "base_uri": "https://localhost:8080/"
        },
        "id": "5KpxvWzIMz2M",
        "outputId": "6e9fee6d-1028-405c-a7bb-eb8be110fff9"
      },
      "execution_count": 24,
      "outputs": [
        {
          "output_type": "execute_result",
          "data": {
            "text/plain": [
              "(3,)"
            ]
          },
          "metadata": {},
          "execution_count": 24
        }
      ]
    },
    {
      "cell_type": "code",
      "source": [
        "arr4.size"
      ],
      "metadata": {
        "colab": {
          "base_uri": "https://localhost:8080/"
        },
        "id": "1Zq7tlPQOIQ-",
        "outputId": "f3e908d9-c53b-48e8-a895-0e1b3683b181"
      },
      "execution_count": 23,
      "outputs": [
        {
          "output_type": "execute_result",
          "data": {
            "text/plain": [
              "3"
            ]
          },
          "metadata": {},
          "execution_count": 23
        }
      ]
    },
    {
      "cell_type": "code",
      "source": [],
      "metadata": {
        "id": "UEU4dW-bOaYW"
      },
      "execution_count": null,
      "outputs": []
    }
  ]
}